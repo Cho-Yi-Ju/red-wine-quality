{
  "nbformat": 4,
  "nbformat_minor": 0,
  "metadata": {
    "colab": {
      "name": "RandomForest.ipynb",
      "provenance": [],
      "collapsed_sections": [],
      "include_colab_link": true
    },
    "kernelspec": {
      "name": "python3",
      "display_name": "Python 3"
    },
    "accelerator": "GPU"
  },
  "cells": [
    {
      "cell_type": "markdown",
      "metadata": {
        "id": "view-in-github",
        "colab_type": "text"
      },
      "source": [
        "<a href=\"https://colab.research.google.com/github/Cho-Yi-Ju/red-wine-quality/blob/main/RandomForest.ipynb\" target=\"_parent\"><img src=\"https://colab.research.google.com/assets/colab-badge.svg\" alt=\"Open In Colab\"/></a>"
      ]
    },
    {
      "cell_type": "code",
      "metadata": {
        "id": "2MlsENsPsbYv",
        "outputId": "d91543a5-746b-45f4-8cf7-d0e44caf5ddb",
        "colab": {
          "base_uri": "https://localhost:8080/",
          "height": 121
        }
      },
      "source": [
        "from google.colab import drive\n",
        "drive.mount('/content/gdrive')"
      ],
      "execution_count": null,
      "outputs": [
        {
          "output_type": "stream",
          "text": [
            "Go to this URL in a browser: https://accounts.google.com/o/oauth2/auth?client_id=947318989803-6bn6qk8qdgf4n4g3pfee6491hc0brc4i.apps.googleusercontent.com&redirect_uri=urn%3aietf%3awg%3aoauth%3a2.0%3aoob&response_type=code&scope=email%20https%3a%2f%2fwww.googleapis.com%2fauth%2fdocs.test%20https%3a%2f%2fwww.googleapis.com%2fauth%2fdrive%20https%3a%2f%2fwww.googleapis.com%2fauth%2fdrive.photos.readonly%20https%3a%2f%2fwww.googleapis.com%2fauth%2fpeopleapi.readonly\n",
            "\n",
            "Enter your authorization code:\n",
            "··········\n",
            "Mounted at /content/gdrive\n"
          ],
          "name": "stdout"
        }
      ]
    },
    {
      "cell_type": "code",
      "metadata": {
        "id": "6TWhlLRKsghE"
      },
      "source": [
        "datapath = '/content/gdrive/My Drive/'"
      ],
      "execution_count": null,
      "outputs": []
    },
    {
      "cell_type": "code",
      "metadata": {
        "id": "K6NOFet_ruqy",
        "outputId": "8d579c96-5f7f-43d1-d687-30c4cc271e60",
        "colab": {
          "base_uri": "https://localhost:8080/",
          "height": 319
        }
      },
      "source": [
        "import numpy as np\n",
        "import pandas as pd\n",
        "import seaborn as sns\n",
        "import matplotlib.pyplot as plt\n",
        "from sklearn.ensemble import RandomForestRegressor\n",
        "from sklearn.metrics import confusion_matrix\n",
        "from sklearn.ensemble import RandomForestClassifier\n",
        "from sklearn.model_selection import train_test_split , cross_val_score\n",
        "from sklearn.metrics import classification_report ,accuracy_score\n",
        "from sklearn.metrics import mean_squared_error \n",
        "from sklearn.metrics import mean_absolute_error \n",
        "from sklearn.metrics import r2_score\n",
        "\n",
        "\n",
        "data = pd.read_csv(datapath + \"winequality-red.csv\", header = 0 , encoding=\"utf-8\")\n",
        "\n",
        "feature_name = [\"fixed acidity\" , \"volatile acidity\",\"citric acid\",\"residual sugar\",\"chlorides\"\n",
        "                ,\"free sulfur dioxide\",\"total sulfur dioxide\",\"density\",\"pH\",\"sulphates\",\"alcohol\"]\n",
        "\n",
        "X = data[feature_name]\n",
        "'''\n",
        "data['quality'] = data['quality'].map({\n",
        "        3 : 0,\n",
        "        4 : 0,\n",
        "        5 : 0,\n",
        "        6 : 0,\n",
        "        7 : 1,\n",
        "        8 : 1         \n",
        "}) \n",
        "'''\n",
        "y = data['quality']\n",
        "\n",
        "X_train, X_test, y_train, y_test = train_test_split(X, y, test_size=0.2, random_state=4)\n",
        "\n",
        "\n",
        "RandomForest = RandomForestClassifier(n_estimators = 100 , random_state=4)\n",
        "decision = RandomForest.fit(X_train , y_train)\n",
        "scores = cross_val_score(decision, X_train, y_train, cv=5)\n",
        "Sum = 0 \n",
        "for i in range(len(scores)):\n",
        "    Sum += scores[i]\n",
        "Valid = Sum/5\n",
        "train_pred = decision.predict(X_train)\n",
        "y_pred = decision.predict(X_test)\n",
        "label = set()\n",
        "for y_p in y_pred:\n",
        "    label.add(y_p)\n",
        "label = list(label)\n",
        "\n",
        "#mat = confusion_matrix(y_test, y_pred)\n",
        "#sns.heatmap(mat.T,xticklabels = True, yticklabels=True, square=True, annot=True, fmt='d', cbar=True)\n",
        "#plt.xlabel('true label')\n",
        "#plt.ylabel('predicted label')\n",
        "print(classification_report(y_test , y_pred , labels=label))\n",
        "print(\"Training accuracy: \", accuracy_score(y_train, train_pred))\n",
        "print(\"Validation accuracy: \", Valid)\n",
        "print(\"Accuracy: \",accuracy_score(y_test, y_pred))\n",
        "print(\"RMSE: \" , np.sqrt(mean_squared_error(y_test,y_pred)))\n",
        "print(\"MSE: \" , mean_squared_error(y_test,y_pred))\n",
        "print(\"MAE: \" , mean_absolute_error(y_test,y_pred))\n",
        "print(\"R_square: \" , r2_score(y_test,y_pred))\n",
        "\n",
        "\n"
      ],
      "execution_count": null,
      "outputs": [
        {
          "output_type": "stream",
          "text": [
            "              precision    recall  f1-score   support\n",
            "\n",
            "           8       1.00      0.50      0.67         2\n",
            "           5       0.79      0.82      0.80       146\n",
            "           6       0.64      0.74      0.69       118\n",
            "           7       0.72      0.56      0.63        41\n",
            "\n",
            "   micro avg       0.72      0.75      0.73       307\n",
            "   macro avg       0.79      0.65      0.70       307\n",
            "weighted avg       0.72      0.75      0.73       307\n",
            "\n",
            "Training accuracy:  1.0\n",
            "Validation accuracy:  0.6762467688877932\n",
            "Accuracy:  0.71875\n",
            "RMSE:  0.6020797289396148\n",
            "MSE:  0.3625\n",
            "MAE:  0.30625\n",
            "R_square:  0.43413771551395597\n"
          ],
          "name": "stdout"
        }
      ]
    },
    {
      "cell_type": "code",
      "metadata": {
        "id": "MxF_tNM-s2Dr"
      },
      "source": [
        "import graphviz \n",
        "from sklearn.tree import export_graphviz\n",
        "RandomForest.fit(X_train , y_train)\n",
        "estimator = RandomForest.estimators_[40]\n",
        "dot_data = export_graphviz(estimator, out_file=None, max_depth=2, feature_names=list(X.columns.values), filled=True, rounded=True)\n",
        "valgTre = graphviz.Source(dot_data) "
      ],
      "execution_count": null,
      "outputs": []
    },
    {
      "cell_type": "code",
      "metadata": {
        "id": "bR6tj8tFFk4p",
        "outputId": "6b51efac-8020-4115-d8b6-969d1e649091",
        "colab": {
          "base_uri": "https://localhost:8080/",
          "height": 496
        }
      },
      "source": [
        "valgTre"
      ],
      "execution_count": null,
      "outputs": [
        {
          "output_type": "execute_result",
          "data": {
            "text/plain": [
              "<graphviz.files.Source at 0x7f02b3c95a58>"
            ],
            "image/svg+xml": "<?xml version=\"1.0\" encoding=\"UTF-8\" standalone=\"no\"?>\n<!DOCTYPE svg PUBLIC \"-//W3C//DTD SVG 1.1//EN\"\n \"http://www.w3.org/Graphics/SVG/1.1/DTD/svg11.dtd\">\n<!-- Generated by graphviz version 2.40.1 (20161225.0304)\n -->\n<!-- Title: Tree Pages: 1 -->\n<svg width=\"878pt\" height=\"356pt\"\n viewBox=\"0.00 0.00 877.50 356.00\" xmlns=\"http://www.w3.org/2000/svg\" xmlns:xlink=\"http://www.w3.org/1999/xlink\">\n<g id=\"graph0\" class=\"graph\" transform=\"scale(1 1) rotate(0) translate(4 352)\">\n<title>Tree</title>\n<polygon fill=\"#ffffff\" stroke=\"transparent\" points=\"-4,4 -4,-352 873.5,-352 873.5,4 -4,4\"/>\n<!-- 0 -->\n<g id=\"node1\" class=\"node\">\n<title>0</title>\n<path fill=\"#fbfffd\" stroke=\"#000000\" d=\"M525.5,-348C525.5,-348 313.5,-348 313.5,-348 307.5,-348 301.5,-342 301.5,-336 301.5,-336 301.5,-292 301.5,-292 301.5,-286 307.5,-280 313.5,-280 313.5,-280 525.5,-280 525.5,-280 531.5,-280 537.5,-286 537.5,-292 537.5,-292 537.5,-336 537.5,-336 537.5,-342 531.5,-348 525.5,-348\"/>\n<text text-anchor=\"middle\" x=\"419.5\" y=\"-332.8\" font-family=\"Helvetica,sans-Serif\" font-size=\"14.00\" fill=\"#000000\">density &lt;= 0.996</text>\n<text text-anchor=\"middle\" x=\"419.5\" y=\"-317.8\" font-family=\"Helvetica,sans-Serif\" font-size=\"14.00\" fill=\"#000000\">gini = 0.651</text>\n<text text-anchor=\"middle\" x=\"419.5\" y=\"-302.8\" font-family=\"Helvetica,sans-Serif\" font-size=\"14.00\" fill=\"#000000\">samples = 820</text>\n<text text-anchor=\"middle\" x=\"419.5\" y=\"-287.8\" font-family=\"Helvetica,sans-Serif\" font-size=\"14.00\" fill=\"#000000\">value = [11, 41, 527, 513, 165, 22]</text>\n</g>\n<!-- 1 -->\n<g id=\"node2\" class=\"node\">\n<title>1</title>\n<path fill=\"#bcdef6\" stroke=\"#000000\" d=\"M394.5,-244C394.5,-244 206.5,-244 206.5,-244 200.5,-244 194.5,-238 194.5,-232 194.5,-232 194.5,-188 194.5,-188 194.5,-182 200.5,-176 206.5,-176 206.5,-176 394.5,-176 394.5,-176 400.5,-176 406.5,-182 406.5,-188 406.5,-188 406.5,-232 406.5,-232 406.5,-238 400.5,-244 394.5,-244\"/>\n<text text-anchor=\"middle\" x=\"300.5\" y=\"-228.8\" font-family=\"Helvetica,sans-Serif\" font-size=\"14.00\" fill=\"#000000\">volatile acidity &lt;= 0.415</text>\n<text text-anchor=\"middle\" x=\"300.5\" y=\"-213.8\" font-family=\"Helvetica,sans-Serif\" font-size=\"14.00\" fill=\"#000000\">gini = 0.665</text>\n<text text-anchor=\"middle\" x=\"300.5\" y=\"-198.8\" font-family=\"Helvetica,sans-Serif\" font-size=\"14.00\" fill=\"#000000\">samples = 215</text>\n<text text-anchor=\"middle\" x=\"300.5\" y=\"-183.8\" font-family=\"Helvetica,sans-Serif\" font-size=\"14.00\" fill=\"#000000\">value = [1, 16, 77, 166, 68, 11]</text>\n</g>\n<!-- 0&#45;&gt;1 -->\n<g id=\"edge1\" class=\"edge\">\n<title>0&#45;&gt;1</title>\n<path fill=\"none\" stroke=\"#000000\" d=\"M380.5349,-279.9465C369.8505,-270.6088 358.1591,-260.3911 347.0934,-250.7203\"/>\n<polygon fill=\"#000000\" stroke=\"#000000\" points=\"349.3855,-248.0752 339.5526,-244.13 344.7791,-253.346 349.3855,-248.0752\"/>\n<text text-anchor=\"middle\" x=\"341.2304\" y=\"-265.3736\" font-family=\"Helvetica,sans-Serif\" font-size=\"14.00\" fill=\"#000000\">True</text>\n</g>\n<!-- 158 -->\n<g id=\"node9\" class=\"node\">\n<title>158</title>\n<path fill=\"#ddfae9\" stroke=\"#000000\" d=\"M640.5,-244C640.5,-244 436.5,-244 436.5,-244 430.5,-244 424.5,-238 424.5,-232 424.5,-232 424.5,-188 424.5,-188 424.5,-182 430.5,-176 436.5,-176 436.5,-176 640.5,-176 640.5,-176 646.5,-176 652.5,-182 652.5,-188 652.5,-188 652.5,-232 652.5,-232 652.5,-238 646.5,-244 640.5,-244\"/>\n<text text-anchor=\"middle\" x=\"538.5\" y=\"-228.8\" font-family=\"Helvetica,sans-Serif\" font-size=\"14.00\" fill=\"#000000\">sulphates &lt;= 0.555</text>\n<text text-anchor=\"middle\" x=\"538.5\" y=\"-213.8\" font-family=\"Helvetica,sans-Serif\" font-size=\"14.00\" fill=\"#000000\">gini = 0.623</text>\n<text text-anchor=\"middle\" x=\"538.5\" y=\"-198.8\" font-family=\"Helvetica,sans-Serif\" font-size=\"14.00\" fill=\"#000000\">samples = 605</text>\n<text text-anchor=\"middle\" x=\"538.5\" y=\"-183.8\" font-family=\"Helvetica,sans-Serif\" font-size=\"14.00\" fill=\"#000000\">value = [10, 25, 450, 347, 97, 11]</text>\n</g>\n<!-- 0&#45;&gt;158 -->\n<g id=\"edge8\" class=\"edge\">\n<title>0&#45;&gt;158</title>\n<path fill=\"none\" stroke=\"#000000\" d=\"M458.4651,-279.9465C469.1495,-270.6088 480.8409,-260.3911 491.9066,-250.7203\"/>\n<polygon fill=\"#000000\" stroke=\"#000000\" points=\"494.2209,-253.346 499.4474,-244.13 489.6145,-248.0752 494.2209,-253.346\"/>\n<text text-anchor=\"middle\" x=\"497.7696\" y=\"-265.3736\" font-family=\"Helvetica,sans-Serif\" font-size=\"14.00\" fill=\"#000000\">False</text>\n</g>\n<!-- 2 -->\n<g id=\"node3\" class=\"node\">\n<title>2</title>\n<path fill=\"#f6f0fd\" stroke=\"#000000\" d=\"M175,-140C175,-140 12,-140 12,-140 6,-140 0,-134 0,-128 0,-128 0,-84 0,-84 0,-78 6,-72 12,-72 12,-72 175,-72 175,-72 181,-72 187,-78 187,-84 187,-84 187,-128 187,-128 187,-134 181,-140 175,-140\"/>\n<text text-anchor=\"middle\" x=\"93.5\" y=\"-124.8\" font-family=\"Helvetica,sans-Serif\" font-size=\"14.00\" fill=\"#000000\">sulphates &lt;= 0.67</text>\n<text text-anchor=\"middle\" x=\"93.5\" y=\"-109.8\" font-family=\"Helvetica,sans-Serif\" font-size=\"14.00\" fill=\"#000000\">gini = 0.61</text>\n<text text-anchor=\"middle\" x=\"93.5\" y=\"-94.8\" font-family=\"Helvetica,sans-Serif\" font-size=\"14.00\" fill=\"#000000\">samples = 71</text>\n<text text-anchor=\"middle\" x=\"93.5\" y=\"-79.8\" font-family=\"Helvetica,sans-Serif\" font-size=\"14.00\" fill=\"#000000\">value = [0, 1, 12, 47, 52, 2]</text>\n</g>\n<!-- 1&#45;&gt;2 -->\n<g id=\"edge2\" class=\"edge\">\n<title>1&#45;&gt;2</title>\n<path fill=\"none\" stroke=\"#000000\" d=\"M232.7205,-175.9465C212.7946,-165.9354 190.8554,-154.9129 170.4027,-144.6371\"/>\n<polygon fill=\"#000000\" stroke=\"#000000\" points=\"171.9388,-141.492 161.4318,-140.13 168.7961,-147.7469 171.9388,-141.492\"/>\n</g>\n<!-- 49 -->\n<g id=\"node6\" class=\"node\">\n<title>49</title>\n<path fill=\"#bcdef6\" stroke=\"#000000\" d=\"M396,-140C396,-140 217,-140 217,-140 211,-140 205,-134 205,-128 205,-128 205,-84 205,-84 205,-78 211,-72 217,-72 217,-72 396,-72 396,-72 402,-72 408,-78 408,-84 408,-84 408,-128 408,-128 408,-134 402,-140 396,-140\"/>\n<text text-anchor=\"middle\" x=\"306.5\" y=\"-124.8\" font-family=\"Helvetica,sans-Serif\" font-size=\"14.00\" fill=\"#000000\">residual sugar &lt;= 1.775</text>\n<text text-anchor=\"middle\" x=\"306.5\" y=\"-109.8\" font-family=\"Helvetica,sans-Serif\" font-size=\"14.00\" fill=\"#000000\">gini = 0.626</text>\n<text text-anchor=\"middle\" x=\"306.5\" y=\"-94.8\" font-family=\"Helvetica,sans-Serif\" font-size=\"14.00\" fill=\"#000000\">samples = 144</text>\n<text text-anchor=\"middle\" x=\"306.5\" y=\"-79.8\" font-family=\"Helvetica,sans-Serif\" font-size=\"14.00\" fill=\"#000000\">value = [1, 15, 65, 119, 16, 9]</text>\n</g>\n<!-- 1&#45;&gt;49 -->\n<g id=\"edge5\" class=\"edge\">\n<title>1&#45;&gt;49</title>\n<path fill=\"none\" stroke=\"#000000\" d=\"M302.4646,-175.9465C302.936,-167.776 303.4462,-158.9318 303.9402,-150.3697\"/>\n<polygon fill=\"#000000\" stroke=\"#000000\" points=\"307.4491,-150.315 304.531,-140.13 300.4607,-149.9118 307.4491,-150.315\"/>\n</g>\n<!-- 3 -->\n<g id=\"node4\" class=\"node\">\n<title>3</title>\n<path fill=\"#c0c0c0\" stroke=\"#000000\" d=\"M72.5,-36C72.5,-36 42.5,-36 42.5,-36 36.5,-36 30.5,-30 30.5,-24 30.5,-24 30.5,-12 30.5,-12 30.5,-6 36.5,0 42.5,0 42.5,0 72.5,0 72.5,0 78.5,0 84.5,-6 84.5,-12 84.5,-12 84.5,-24 84.5,-24 84.5,-30 78.5,-36 72.5,-36\"/>\n<text text-anchor=\"middle\" x=\"57.5\" y=\"-14.3\" font-family=\"Helvetica,sans-Serif\" font-size=\"14.00\" fill=\"#000000\">(...)</text>\n</g>\n<!-- 2&#45;&gt;3 -->\n<g id=\"edge3\" class=\"edge\">\n<title>2&#45;&gt;3</title>\n<path fill=\"none\" stroke=\"#000000\" d=\"M79.5815,-71.9769C75.9977,-63.2167 72.1862,-53.8995 68.7564,-45.5157\"/>\n<polygon fill=\"#000000\" stroke=\"#000000\" points=\"71.968,-44.1222 64.9422,-36.192 65.4891,-46.7727 71.968,-44.1222\"/>\n</g>\n<!-- 20 -->\n<g id=\"node5\" class=\"node\">\n<title>20</title>\n<path fill=\"#c0c0c0\" stroke=\"#000000\" d=\"M144.5,-36C144.5,-36 114.5,-36 114.5,-36 108.5,-36 102.5,-30 102.5,-24 102.5,-24 102.5,-12 102.5,-12 102.5,-6 108.5,0 114.5,0 114.5,0 144.5,0 144.5,0 150.5,0 156.5,-6 156.5,-12 156.5,-12 156.5,-24 156.5,-24 156.5,-30 150.5,-36 144.5,-36\"/>\n<text text-anchor=\"middle\" x=\"129.5\" y=\"-14.3\" font-family=\"Helvetica,sans-Serif\" font-size=\"14.00\" fill=\"#000000\">(...)</text>\n</g>\n<!-- 2&#45;&gt;20 -->\n<g id=\"edge4\" class=\"edge\">\n<title>2&#45;&gt;20</title>\n<path fill=\"none\" stroke=\"#000000\" d=\"M107.4185,-71.9769C111.0023,-63.2167 114.8138,-53.8995 118.2436,-45.5157\"/>\n<polygon fill=\"#000000\" stroke=\"#000000\" points=\"121.5109,-46.7727 122.0578,-36.192 115.032,-44.1222 121.5109,-46.7727\"/>\n</g>\n<!-- 50 -->\n<g id=\"node7\" class=\"node\">\n<title>50</title>\n<path fill=\"#c0c0c0\" stroke=\"#000000\" d=\"M285.5,-36C285.5,-36 255.5,-36 255.5,-36 249.5,-36 243.5,-30 243.5,-24 243.5,-24 243.5,-12 243.5,-12 243.5,-6 249.5,0 255.5,0 255.5,0 285.5,0 285.5,0 291.5,0 297.5,-6 297.5,-12 297.5,-12 297.5,-24 297.5,-24 297.5,-30 291.5,-36 285.5,-36\"/>\n<text text-anchor=\"middle\" x=\"270.5\" y=\"-14.3\" font-family=\"Helvetica,sans-Serif\" font-size=\"14.00\" fill=\"#000000\">(...)</text>\n</g>\n<!-- 49&#45;&gt;50 -->\n<g id=\"edge6\" class=\"edge\">\n<title>49&#45;&gt;50</title>\n<path fill=\"none\" stroke=\"#000000\" d=\"M292.5815,-71.9769C288.9977,-63.2167 285.1862,-53.8995 281.7564,-45.5157\"/>\n<polygon fill=\"#000000\" stroke=\"#000000\" points=\"284.968,-44.1222 277.9422,-36.192 278.4891,-46.7727 284.968,-44.1222\"/>\n</g>\n<!-- 77 -->\n<g id=\"node8\" class=\"node\">\n<title>77</title>\n<path fill=\"#c0c0c0\" stroke=\"#000000\" d=\"M357.5,-36C357.5,-36 327.5,-36 327.5,-36 321.5,-36 315.5,-30 315.5,-24 315.5,-24 315.5,-12 315.5,-12 315.5,-6 321.5,0 327.5,0 327.5,0 357.5,0 357.5,0 363.5,0 369.5,-6 369.5,-12 369.5,-12 369.5,-24 369.5,-24 369.5,-30 363.5,-36 357.5,-36\"/>\n<text text-anchor=\"middle\" x=\"342.5\" y=\"-14.3\" font-family=\"Helvetica,sans-Serif\" font-size=\"14.00\" fill=\"#000000\">(...)</text>\n</g>\n<!-- 49&#45;&gt;77 -->\n<g id=\"edge7\" class=\"edge\">\n<title>49&#45;&gt;77</title>\n<path fill=\"none\" stroke=\"#000000\" d=\"M320.4185,-71.9769C324.0023,-63.2167 327.8138,-53.8995 331.2436,-45.5157\"/>\n<polygon fill=\"#000000\" stroke=\"#000000\" points=\"334.5109,-46.7727 335.0578,-36.192 328.032,-44.1222 334.5109,-46.7727\"/>\n</g>\n<!-- 159 -->\n<g id=\"node10\" class=\"node\">\n<title>159</title>\n<path fill=\"#74eda7\" stroke=\"#000000\" d=\"M619,-140C619,-140 448,-140 448,-140 442,-140 436,-134 436,-128 436,-128 436,-84 436,-84 436,-78 442,-72 448,-72 448,-72 619,-72 619,-72 625,-72 631,-78 631,-84 631,-84 631,-128 631,-128 631,-134 625,-140 619,-140\"/>\n<text text-anchor=\"middle\" x=\"533.5\" y=\"-124.8\" font-family=\"Helvetica,sans-Serif\" font-size=\"14.00\" fill=\"#000000\">volatile acidity &lt;= 0.873</text>\n<text text-anchor=\"middle\" x=\"533.5\" y=\"-109.8\" font-family=\"Helvetica,sans-Serif\" font-size=\"14.00\" fill=\"#000000\">gini = 0.406</text>\n<text text-anchor=\"middle\" x=\"533.5\" y=\"-94.8\" font-family=\"Helvetica,sans-Serif\" font-size=\"14.00\" fill=\"#000000\">samples = 143</text>\n<text text-anchor=\"middle\" x=\"533.5\" y=\"-79.8\" font-family=\"Helvetica,sans-Serif\" font-size=\"14.00\" fill=\"#000000\">value = [7, 13, 180, 40, 0, 0]</text>\n</g>\n<!-- 158&#45;&gt;159 -->\n<g id=\"edge9\" class=\"edge\">\n<title>158&#45;&gt;159</title>\n<path fill=\"none\" stroke=\"#000000\" d=\"M536.8628,-175.9465C536.47,-167.776 536.0448,-158.9318 535.6332,-150.3697\"/>\n<polygon fill=\"#000000\" stroke=\"#000000\" points=\"539.1171,-149.9504 535.1409,-140.13 532.1252,-150.2866 539.1171,-149.9504\"/>\n</g>\n<!-- 234 -->\n<g id=\"node13\" class=\"node\">\n<title>234</title>\n<path fill=\"#eef7fd\" stroke=\"#000000\" d=\"M857.5,-140C857.5,-140 661.5,-140 661.5,-140 655.5,-140 649.5,-134 649.5,-128 649.5,-128 649.5,-84 649.5,-84 649.5,-78 655.5,-72 661.5,-72 661.5,-72 857.5,-72 857.5,-72 863.5,-72 869.5,-78 869.5,-84 869.5,-84 869.5,-128 869.5,-128 869.5,-134 863.5,-140 857.5,-140\"/>\n<text text-anchor=\"middle\" x=\"759.5\" y=\"-124.8\" font-family=\"Helvetica,sans-Serif\" font-size=\"14.00\" fill=\"#000000\">total sulfur dioxide &lt;= 81.5</text>\n<text text-anchor=\"middle\" x=\"759.5\" y=\"-109.8\" font-family=\"Helvetica,sans-Serif\" font-size=\"14.00\" fill=\"#000000\">gini = 0.639</text>\n<text text-anchor=\"middle\" x=\"759.5\" y=\"-94.8\" font-family=\"Helvetica,sans-Serif\" font-size=\"14.00\" fill=\"#000000\">samples = 462</text>\n<text text-anchor=\"middle\" x=\"759.5\" y=\"-79.8\" font-family=\"Helvetica,sans-Serif\" font-size=\"14.00\" fill=\"#000000\">value = [3, 12, 270, 307, 97, 11]</text>\n</g>\n<!-- 158&#45;&gt;234 -->\n<g id=\"edge12\" class=\"edge\">\n<title>158&#45;&gt;234</title>\n<path fill=\"none\" stroke=\"#000000\" d=\"M610.8637,-175.9465C632.2326,-165.8906 655.7703,-154.814 677.6898,-144.4989\"/>\n<polygon fill=\"#000000\" stroke=\"#000000\" points=\"679.4159,-147.5549 686.9738,-140.13 676.4353,-141.2212 679.4159,-147.5549\"/>\n</g>\n<!-- 160 -->\n<g id=\"node11\" class=\"node\">\n<title>160</title>\n<path fill=\"#c0c0c0\" stroke=\"#000000\" d=\"M512.5,-36C512.5,-36 482.5,-36 482.5,-36 476.5,-36 470.5,-30 470.5,-24 470.5,-24 470.5,-12 470.5,-12 470.5,-6 476.5,0 482.5,0 482.5,0 512.5,0 512.5,0 518.5,0 524.5,-6 524.5,-12 524.5,-12 524.5,-24 524.5,-24 524.5,-30 518.5,-36 512.5,-36\"/>\n<text text-anchor=\"middle\" x=\"497.5\" y=\"-14.3\" font-family=\"Helvetica,sans-Serif\" font-size=\"14.00\" fill=\"#000000\">(...)</text>\n</g>\n<!-- 159&#45;&gt;160 -->\n<g id=\"edge10\" class=\"edge\">\n<title>159&#45;&gt;160</title>\n<path fill=\"none\" stroke=\"#000000\" d=\"M519.5815,-71.9769C515.9977,-63.2167 512.1862,-53.8995 508.7564,-45.5157\"/>\n<polygon fill=\"#000000\" stroke=\"#000000\" points=\"511.968,-44.1222 504.9422,-36.192 505.4891,-46.7727 511.968,-44.1222\"/>\n</g>\n<!-- 223 -->\n<g id=\"node12\" class=\"node\">\n<title>223</title>\n<path fill=\"#c0c0c0\" stroke=\"#000000\" d=\"M584.5,-36C584.5,-36 554.5,-36 554.5,-36 548.5,-36 542.5,-30 542.5,-24 542.5,-24 542.5,-12 542.5,-12 542.5,-6 548.5,0 554.5,0 554.5,0 584.5,0 584.5,0 590.5,0 596.5,-6 596.5,-12 596.5,-12 596.5,-24 596.5,-24 596.5,-30 590.5,-36 584.5,-36\"/>\n<text text-anchor=\"middle\" x=\"569.5\" y=\"-14.3\" font-family=\"Helvetica,sans-Serif\" font-size=\"14.00\" fill=\"#000000\">(...)</text>\n</g>\n<!-- 159&#45;&gt;223 -->\n<g id=\"edge11\" class=\"edge\">\n<title>159&#45;&gt;223</title>\n<path fill=\"none\" stroke=\"#000000\" d=\"M547.4185,-71.9769C551.0023,-63.2167 554.8138,-53.8995 558.2436,-45.5157\"/>\n<polygon fill=\"#000000\" stroke=\"#000000\" points=\"561.5109,-46.7727 562.0578,-36.192 555.032,-44.1222 561.5109,-46.7727\"/>\n</g>\n<!-- 235 -->\n<g id=\"node14\" class=\"node\">\n<title>235</title>\n<path fill=\"#c0c0c0\" stroke=\"#000000\" d=\"M738.5,-36C738.5,-36 708.5,-36 708.5,-36 702.5,-36 696.5,-30 696.5,-24 696.5,-24 696.5,-12 696.5,-12 696.5,-6 702.5,0 708.5,0 708.5,0 738.5,0 738.5,0 744.5,0 750.5,-6 750.5,-12 750.5,-12 750.5,-24 750.5,-24 750.5,-30 744.5,-36 738.5,-36\"/>\n<text text-anchor=\"middle\" x=\"723.5\" y=\"-14.3\" font-family=\"Helvetica,sans-Serif\" font-size=\"14.00\" fill=\"#000000\">(...)</text>\n</g>\n<!-- 234&#45;&gt;235 -->\n<g id=\"edge13\" class=\"edge\">\n<title>234&#45;&gt;235</title>\n<path fill=\"none\" stroke=\"#000000\" d=\"M745.5815,-71.9769C741.9977,-63.2167 738.1862,-53.8995 734.7564,-45.5157\"/>\n<polygon fill=\"#000000\" stroke=\"#000000\" points=\"737.968,-44.1222 730.9422,-36.192 731.4891,-46.7727 737.968,-44.1222\"/>\n</g>\n<!-- 536 -->\n<g id=\"node15\" class=\"node\">\n<title>536</title>\n<path fill=\"#c0c0c0\" stroke=\"#000000\" d=\"M810.5,-36C810.5,-36 780.5,-36 780.5,-36 774.5,-36 768.5,-30 768.5,-24 768.5,-24 768.5,-12 768.5,-12 768.5,-6 774.5,0 780.5,0 780.5,0 810.5,0 810.5,0 816.5,0 822.5,-6 822.5,-12 822.5,-12 822.5,-24 822.5,-24 822.5,-30 816.5,-36 810.5,-36\"/>\n<text text-anchor=\"middle\" x=\"795.5\" y=\"-14.3\" font-family=\"Helvetica,sans-Serif\" font-size=\"14.00\" fill=\"#000000\">(...)</text>\n</g>\n<!-- 234&#45;&gt;536 -->\n<g id=\"edge14\" class=\"edge\">\n<title>234&#45;&gt;536</title>\n<path fill=\"none\" stroke=\"#000000\" d=\"M773.4185,-71.9769C777.0023,-63.2167 780.8138,-53.8995 784.2436,-45.5157\"/>\n<polygon fill=\"#000000\" stroke=\"#000000\" points=\"787.5109,-46.7727 788.0578,-36.192 781.032,-44.1222 787.5109,-46.7727\"/>\n</g>\n</g>\n</svg>\n"
          },
          "metadata": {
            "tags": []
          },
          "execution_count": 35
        }
      ]
    }
  ]
}