{
  "nbformat": 4,
  "nbformat_minor": 0,
  "metadata": {
    "colab": {
      "name": "DecisionTree.ipynb",
      "provenance": [],
      "collapsed_sections": [],
      "include_colab_link": true
    },
    "kernelspec": {
      "name": "python3",
      "display_name": "Python 3"
    },
    "accelerator": "GPU"
  },
  "cells": [
    {
      "cell_type": "markdown",
      "metadata": {
        "id": "view-in-github",
        "colab_type": "text"
      },
      "source": [
        "<a href=\"https://colab.research.google.com/github/Cho-Yi-Ju/red-wine-quality/blob/main/DecisionTree.ipynb\" target=\"_parent\"><img src=\"https://colab.research.google.com/assets/colab-badge.svg\" alt=\"Open In Colab\"/></a>"
      ]
    },
    {
      "cell_type": "code",
      "metadata": {
        "id": "2MlsENsPsbYv",
        "outputId": "e3dbf479-4597-4dbf-9fa7-57f4c3b46bf7",
        "colab": {
          "base_uri": "https://localhost:8080/",
          "height": 121
        }
      },
      "source": [
        "from google.colab import drive\n",
        "drive.mount('/content/gdrive')"
      ],
      "execution_count": null,
      "outputs": [
        {
          "output_type": "stream",
          "text": [
            "Go to this URL in a browser: https://accounts.google.com/o/oauth2/auth?client_id=947318989803-6bn6qk8qdgf4n4g3pfee6491hc0brc4i.apps.googleusercontent.com&redirect_uri=urn%3aietf%3awg%3aoauth%3a2.0%3aoob&response_type=code&scope=email%20https%3a%2f%2fwww.googleapis.com%2fauth%2fdocs.test%20https%3a%2f%2fwww.googleapis.com%2fauth%2fdrive%20https%3a%2f%2fwww.googleapis.com%2fauth%2fdrive.photos.readonly%20https%3a%2f%2fwww.googleapis.com%2fauth%2fpeopleapi.readonly\n",
            "\n",
            "Enter your authorization code:\n",
            "··········\n",
            "Mounted at /content/gdrive\n"
          ],
          "name": "stdout"
        }
      ]
    },
    {
      "cell_type": "code",
      "metadata": {
        "id": "6TWhlLRKsghE"
      },
      "source": [
        "datapath = '/content/gdrive/My Drive/'"
      ],
      "execution_count": null,
      "outputs": []
    },
    {
      "cell_type": "code",
      "metadata": {
        "id": "K6NOFet_ruqy",
        "outputId": "a1361e9f-9f5e-420b-ca41-951a4b28b423",
        "colab": {
          "base_uri": "https://localhost:8080/",
          "height": 353
        }
      },
      "source": [
        "import numpy as np\n",
        "import pandas as pd\n",
        "import seaborn as sns\n",
        "import matplotlib.pyplot as plt\n",
        "from sklearn.tree import DecisionTreeClassifier\n",
        "from sklearn.model_selection import train_test_split , cross_val_score\n",
        "from sklearn.metrics import classification_report ,accuracy_score\n",
        "from sklearn.metrics import mean_squared_error \n",
        "from sklearn.metrics import mean_absolute_error \n",
        "from sklearn.metrics import r2_score\n",
        "\n",
        "\n",
        "data = pd.read_csv(datapath + \"winequality-red.csv\", header = 0 , encoding=\"utf-8\")\n",
        "\n",
        "feature_name = [\"fixed acidity\" , \"volatile acidity\",\"citric acid\",\"residual sugar\",\"chlorides\"\n",
        "                ,\"free sulfur dioxide\",\"total sulfur dioxide\",\"density\",\"pH\",\"sulphates\",\"alcohol\"]\n",
        "\n",
        "X = data[feature_name]\n",
        "'''\n",
        "data['quality'] = data['quality'].map({\n",
        "        3 : 0,\n",
        "        4 : 0,\n",
        "        5 : 0,\n",
        "        6 : 0,\n",
        "        7 : 1,\n",
        "        8 : 1         \n",
        "}) \n",
        "\n",
        "y = data['quality']\n",
        "'''\n",
        "y = data.quality\n",
        "\n",
        "X_train, X_test, y_train, y_test = train_test_split(X, y, test_size=0.2, random_state=100)\n",
        "\n",
        "\n",
        "Decision_tree = DecisionTreeClassifier(criterion=\"gini\", max_depth=100 , random_state=100)\n",
        "\n",
        "decision = Decision_tree.fit(X_train , y_train)\n",
        "scores = cross_val_score(decision, X_train, y_train, cv=5)\n",
        "\n",
        "Sum = 0 \n",
        "for i in range(len(scores)):\n",
        "    Sum += scores[i]\n",
        "Valid = Sum/5\n",
        "train_pred = decision.predict(X_train)\n",
        "y_pred = decision.predict(X_test)\n",
        "label = set()\n",
        "for y_p in y_pred:\n",
        "    label.add(y_p)\n",
        "label = list(label)\n",
        "\n",
        "print(classification_report(y_test , y_pred , labels=label))\n",
        "print(\"Training accuracy: \", accuracy_score(y_train, train_pred))\n",
        "print(\"Validation accuracy: \", Valid)\n",
        "print(\"Accuracy: \",accuracy_score(y_test, y_pred))\n",
        "print(\"RMSE: \" , np.sqrt(mean_squared_error(y_test,y_pred)))\n",
        "print(\"MSE: \" , mean_squared_error(y_test,y_pred))\n",
        "print(\"MAE: \" , mean_absolute_error(y_test,y_pred))\n",
        "print(\"R_square: \" , r2_score(y_test,y_pred))\n",
        "\n",
        "\n"
      ],
      "execution_count": null,
      "outputs": [
        {
          "output_type": "stream",
          "text": [
            "              precision    recall  f1-score   support\n",
            "\n",
            "           3       0.00      0.00      0.00         3\n",
            "           4       0.33      0.25      0.29        12\n",
            "           5       0.73      0.72      0.73       133\n",
            "           6       0.64      0.55      0.59       137\n",
            "           7       0.38      0.66      0.48        32\n",
            "           8       0.00      0.00      0.00         3\n",
            "\n",
            "    accuracy                           0.61       320\n",
            "   macro avg       0.35      0.36      0.35       320\n",
            "weighted avg       0.63      0.61      0.61       320\n",
            "\n",
            "Training accuracy:  1.0\n",
            "Validation accuracy:  0.5935253694668902\n",
            "Accuracy:  0.6125\n",
            "RMSE:  0.7786205751198718\n",
            "MSE:  0.60625\n",
            "MAE:  0.45625\n",
            "R_square:  0.03386454183266929\n"
          ],
          "name": "stdout"
        }
      ]
    },
    {
      "cell_type": "code",
      "metadata": {
        "id": "MxF_tNM-s2Dr"
      },
      "source": [
        "import graphviz \n",
        "from sklearn.tree import export_graphviz\n",
        "Decision_tree.fit(X_train , y_train)\n",
        "#dot_data = export_graphviz(Decision_tree, out_file= datapath + 'tree_decision_regressor.dot', max_depth=2, feature_names=list(X.columns.values), filled=True, rounded=True)\n",
        "dot_data = export_graphviz(Decision_tree, out_file= None, max_depth=2, feature_names=list(X.columns.values), filled=True, rounded=True)\n",
        "valgTre = graphviz.Source(dot_data) "
      ],
      "execution_count": null,
      "outputs": []
    },
    {
      "cell_type": "code",
      "metadata": {
        "id": "mtaqghiV66Nh",
        "outputId": "47b687bf-2537-42fb-ec54-988242f7c5cf",
        "colab": {
          "base_uri": "https://localhost:8080/",
          "height": 496
        }
      },
      "source": [
        "valgTre"
      ],
      "execution_count": null,
      "outputs": [
        {
          "output_type": "execute_result",
          "data": {
            "text/plain": [
              "<graphviz.files.Source at 0x7fea5f093cc0>"
            ],
            "image/svg+xml": "<?xml version=\"1.0\" encoding=\"UTF-8\" standalone=\"no\"?>\n<!DOCTYPE svg PUBLIC \"-//W3C//DTD SVG 1.1//EN\"\n \"http://www.w3.org/Graphics/SVG/1.1/DTD/svg11.dtd\">\n<!-- Generated by graphviz version 2.40.1 (20161225.0304)\n -->\n<!-- Title: Tree Pages: 1 -->\n<svg width=\"869pt\" height=\"356pt\"\n viewBox=\"0.00 0.00 869.00 356.00\" xmlns=\"http://www.w3.org/2000/svg\" xmlns:xlink=\"http://www.w3.org/1999/xlink\">\n<g id=\"graph0\" class=\"graph\" transform=\"scale(1 1) rotate(0) translate(4 352)\">\n<title>Tree</title>\n<polygon fill=\"#ffffff\" stroke=\"transparent\" points=\"-4,4 -4,-352 865,-352 865,4 -4,4\"/>\n<!-- 0 -->\n<g id=\"node1\" class=\"node\">\n<title>0</title>\n<path fill=\"#f3fdf7\" stroke=\"#000000\" d=\"M533.5,-348C533.5,-348 329.5,-348 329.5,-348 323.5,-348 317.5,-342 317.5,-336 317.5,-336 317.5,-292 317.5,-292 317.5,-286 323.5,-280 329.5,-280 329.5,-280 533.5,-280 533.5,-280 539.5,-280 545.5,-286 545.5,-292 545.5,-292 545.5,-336 545.5,-336 545.5,-342 539.5,-348 533.5,-348\"/>\n<text text-anchor=\"middle\" x=\"431.5\" y=\"-332.8\" font-family=\"Helvetica,sans-Serif\" font-size=\"14.00\" fill=\"#000000\">alcohol &lt;= 10.525</text>\n<text text-anchor=\"middle\" x=\"431.5\" y=\"-317.8\" font-family=\"Helvetica,sans-Serif\" font-size=\"14.00\" fill=\"#000000\">gini = 0.645</text>\n<text text-anchor=\"middle\" x=\"431.5\" y=\"-302.8\" font-family=\"Helvetica,sans-Serif\" font-size=\"14.00\" fill=\"#000000\">samples = 1279</text>\n<text text-anchor=\"middle\" x=\"431.5\" y=\"-287.8\" font-family=\"Helvetica,sans-Serif\" font-size=\"14.00\" fill=\"#000000\">value = [7, 41, 548, 501, 167, 15]</text>\n</g>\n<!-- 1 -->\n<g id=\"node2\" class=\"node\">\n<title>1</title>\n<path fill=\"#b5f5d0\" stroke=\"#000000\" d=\"M408.5,-244C408.5,-244 220.5,-244 220.5,-244 214.5,-244 208.5,-238 208.5,-232 208.5,-232 208.5,-188 208.5,-188 208.5,-182 214.5,-176 220.5,-176 220.5,-176 408.5,-176 408.5,-176 414.5,-176 420.5,-182 420.5,-188 420.5,-188 420.5,-232 420.5,-232 420.5,-238 414.5,-244 408.5,-244\"/>\n<text text-anchor=\"middle\" x=\"314.5\" y=\"-228.8\" font-family=\"Helvetica,sans-Serif\" font-size=\"14.00\" fill=\"#000000\">sulphates &lt;= 0.535</text>\n<text text-anchor=\"middle\" x=\"314.5\" y=\"-213.8\" font-family=\"Helvetica,sans-Serif\" font-size=\"14.00\" fill=\"#000000\">gini = 0.546</text>\n<text text-anchor=\"middle\" x=\"314.5\" y=\"-198.8\" font-family=\"Helvetica,sans-Serif\" font-size=\"14.00\" fill=\"#000000\">samples = 807</text>\n<text text-anchor=\"middle\" x=\"314.5\" y=\"-183.8\" font-family=\"Helvetica,sans-Serif\" font-size=\"14.00\" fill=\"#000000\">value = [4, 28, 470, 270, 34, 1]</text>\n</g>\n<!-- 0&#45;&gt;1 -->\n<g id=\"edge1\" class=\"edge\">\n<title>0&#45;&gt;1</title>\n<path fill=\"none\" stroke=\"#000000\" d=\"M393.1898,-279.9465C382.7859,-270.6986 371.411,-260.5876 360.6243,-250.9994\"/>\n<polygon fill=\"#000000\" stroke=\"#000000\" points=\"362.6956,-248.1577 352.8962,-244.13 358.0451,-253.3896 362.6956,-248.1577\"/>\n<text text-anchor=\"middle\" x=\"354.3643\" y=\"-265.3869\" font-family=\"Helvetica,sans-Serif\" font-size=\"14.00\" fill=\"#000000\">True</text>\n</g>\n<!-- 398 -->\n<g id=\"node9\" class=\"node\">\n<title>398</title>\n<path fill=\"#c6e3f7\" stroke=\"#000000\" d=\"M646.5,-244C646.5,-244 450.5,-244 450.5,-244 444.5,-244 438.5,-238 438.5,-232 438.5,-232 438.5,-188 438.5,-188 438.5,-182 444.5,-176 450.5,-176 450.5,-176 646.5,-176 646.5,-176 652.5,-176 658.5,-182 658.5,-188 658.5,-188 658.5,-232 658.5,-232 658.5,-238 652.5,-244 646.5,-244\"/>\n<text text-anchor=\"middle\" x=\"548.5\" y=\"-228.8\" font-family=\"Helvetica,sans-Serif\" font-size=\"14.00\" fill=\"#000000\">volatile acidity &lt;= 0.425</text>\n<text text-anchor=\"middle\" x=\"548.5\" y=\"-213.8\" font-family=\"Helvetica,sans-Serif\" font-size=\"14.00\" fill=\"#000000\">gini = 0.652</text>\n<text text-anchor=\"middle\" x=\"548.5\" y=\"-198.8\" font-family=\"Helvetica,sans-Serif\" font-size=\"14.00\" fill=\"#000000\">samples = 472</text>\n<text text-anchor=\"middle\" x=\"548.5\" y=\"-183.8\" font-family=\"Helvetica,sans-Serif\" font-size=\"14.00\" fill=\"#000000\">value = [3, 13, 78, 231, 133, 14]</text>\n</g>\n<!-- 0&#45;&gt;398 -->\n<g id=\"edge8\" class=\"edge\">\n<title>0&#45;&gt;398</title>\n<path fill=\"none\" stroke=\"#000000\" d=\"M469.8102,-279.9465C480.2141,-270.6986 491.589,-260.5876 502.3757,-250.9994\"/>\n<polygon fill=\"#000000\" stroke=\"#000000\" points=\"504.9549,-253.3896 510.1038,-244.13 500.3044,-248.1577 504.9549,-253.3896\"/>\n<text text-anchor=\"middle\" x=\"508.6357\" y=\"-265.3869\" font-family=\"Helvetica,sans-Serif\" font-size=\"14.00\" fill=\"#000000\">False</text>\n</g>\n<!-- 2 -->\n<g id=\"node3\" class=\"node\">\n<title>2</title>\n<path fill=\"#70eca4\" stroke=\"#000000\" d=\"M183,-140C183,-140 12,-140 12,-140 6,-140 0,-134 0,-128 0,-128 0,-84 0,-84 0,-78 6,-72 12,-72 12,-72 183,-72 183,-72 189,-72 195,-78 195,-84 195,-84 195,-128 195,-128 195,-134 189,-140 183,-140\"/>\n<text text-anchor=\"middle\" x=\"97.5\" y=\"-124.8\" font-family=\"Helvetica,sans-Serif\" font-size=\"14.00\" fill=\"#000000\">volatile acidity &lt;= 0.335</text>\n<text text-anchor=\"middle\" x=\"97.5\" y=\"-109.8\" font-family=\"Helvetica,sans-Serif\" font-size=\"14.00\" fill=\"#000000\">gini = 0.389</text>\n<text text-anchor=\"middle\" x=\"97.5\" y=\"-94.8\" font-family=\"Helvetica,sans-Serif\" font-size=\"14.00\" fill=\"#000000\">samples = 190</text>\n<text text-anchor=\"middle\" x=\"97.5\" y=\"-79.8\" font-family=\"Helvetica,sans-Serif\" font-size=\"14.00\" fill=\"#000000\">value = [1, 14, 145, 29, 1, 0]</text>\n</g>\n<!-- 1&#45;&gt;2 -->\n<g id=\"edge2\" class=\"edge\">\n<title>1&#45;&gt;2</title>\n<path fill=\"none\" stroke=\"#000000\" d=\"M243.4461,-175.9465C222.4639,-165.8906 199.3523,-154.814 177.8295,-144.4989\"/>\n<polygon fill=\"#000000\" stroke=\"#000000\" points=\"179.2441,-141.2957 168.7135,-140.13 176.2187,-147.6082 179.2441,-141.2957\"/>\n</g>\n<!-- 81 -->\n<g id=\"node6\" class=\"node\">\n<title>81</title>\n<path fill=\"#d3f9e3\" stroke=\"#000000\" d=\"M412.5,-140C412.5,-140 224.5,-140 224.5,-140 218.5,-140 212.5,-134 212.5,-128 212.5,-128 212.5,-84 212.5,-84 212.5,-78 218.5,-72 224.5,-72 224.5,-72 412.5,-72 412.5,-72 418.5,-72 424.5,-78 424.5,-84 424.5,-84 424.5,-128 424.5,-128 424.5,-134 418.5,-140 412.5,-140\"/>\n<text text-anchor=\"middle\" x=\"318.5\" y=\"-124.8\" font-family=\"Helvetica,sans-Serif\" font-size=\"14.00\" fill=\"#000000\">total sulfur dioxide &lt;= 81.5</text>\n<text text-anchor=\"middle\" x=\"318.5\" y=\"-109.8\" font-family=\"Helvetica,sans-Serif\" font-size=\"14.00\" fill=\"#000000\">gini = 0.567</text>\n<text text-anchor=\"middle\" x=\"318.5\" y=\"-94.8\" font-family=\"Helvetica,sans-Serif\" font-size=\"14.00\" fill=\"#000000\">samples = 617</text>\n<text text-anchor=\"middle\" x=\"318.5\" y=\"-79.8\" font-family=\"Helvetica,sans-Serif\" font-size=\"14.00\" fill=\"#000000\">value = [3, 14, 325, 241, 33, 1]</text>\n</g>\n<!-- 1&#45;&gt;81 -->\n<g id=\"edge5\" class=\"edge\">\n<title>1&#45;&gt;81</title>\n<path fill=\"none\" stroke=\"#000000\" d=\"M315.8097,-175.9465C316.124,-167.776 316.4642,-158.9318 316.7935,-150.3697\"/>\n<polygon fill=\"#000000\" stroke=\"#000000\" points=\"320.3003,-150.2572 317.1873,-140.13 313.3055,-149.9881 320.3003,-150.2572\"/>\n</g>\n<!-- 3 -->\n<g id=\"node4\" class=\"node\">\n<title>3</title>\n<path fill=\"#c0c0c0\" stroke=\"#000000\" d=\"M76.5,-36C76.5,-36 46.5,-36 46.5,-36 40.5,-36 34.5,-30 34.5,-24 34.5,-24 34.5,-12 34.5,-12 34.5,-6 40.5,0 46.5,0 46.5,0 76.5,0 76.5,0 82.5,0 88.5,-6 88.5,-12 88.5,-12 88.5,-24 88.5,-24 88.5,-30 82.5,-36 76.5,-36\"/>\n<text text-anchor=\"middle\" x=\"61.5\" y=\"-14.3\" font-family=\"Helvetica,sans-Serif\" font-size=\"14.00\" fill=\"#000000\">(...)</text>\n</g>\n<!-- 2&#45;&gt;3 -->\n<g id=\"edge3\" class=\"edge\">\n<title>2&#45;&gt;3</title>\n<path fill=\"none\" stroke=\"#000000\" d=\"M83.5815,-71.9769C79.9977,-63.2167 76.1862,-53.8995 72.7564,-45.5157\"/>\n<polygon fill=\"#000000\" stroke=\"#000000\" points=\"75.968,-44.1222 68.9422,-36.192 69.4891,-46.7727 75.968,-44.1222\"/>\n</g>\n<!-- 8 -->\n<g id=\"node5\" class=\"node\">\n<title>8</title>\n<path fill=\"#c0c0c0\" stroke=\"#000000\" d=\"M148.5,-36C148.5,-36 118.5,-36 118.5,-36 112.5,-36 106.5,-30 106.5,-24 106.5,-24 106.5,-12 106.5,-12 106.5,-6 112.5,0 118.5,0 118.5,0 148.5,0 148.5,0 154.5,0 160.5,-6 160.5,-12 160.5,-12 160.5,-24 160.5,-24 160.5,-30 154.5,-36 148.5,-36\"/>\n<text text-anchor=\"middle\" x=\"133.5\" y=\"-14.3\" font-family=\"Helvetica,sans-Serif\" font-size=\"14.00\" fill=\"#000000\">(...)</text>\n</g>\n<!-- 2&#45;&gt;8 -->\n<g id=\"edge4\" class=\"edge\">\n<title>2&#45;&gt;8</title>\n<path fill=\"none\" stroke=\"#000000\" d=\"M111.4185,-71.9769C115.0023,-63.2167 118.8138,-53.8995 122.2436,-45.5157\"/>\n<polygon fill=\"#000000\" stroke=\"#000000\" points=\"125.5109,-46.7727 126.0578,-36.192 119.032,-44.1222 125.5109,-46.7727\"/>\n</g>\n<!-- 82 -->\n<g id=\"node7\" class=\"node\">\n<title>82</title>\n<path fill=\"#c0c0c0\" stroke=\"#000000\" d=\"M297.5,-36C297.5,-36 267.5,-36 267.5,-36 261.5,-36 255.5,-30 255.5,-24 255.5,-24 255.5,-12 255.5,-12 255.5,-6 261.5,0 267.5,0 267.5,0 297.5,0 297.5,0 303.5,0 309.5,-6 309.5,-12 309.5,-12 309.5,-24 309.5,-24 309.5,-30 303.5,-36 297.5,-36\"/>\n<text text-anchor=\"middle\" x=\"282.5\" y=\"-14.3\" font-family=\"Helvetica,sans-Serif\" font-size=\"14.00\" fill=\"#000000\">(...)</text>\n</g>\n<!-- 81&#45;&gt;82 -->\n<g id=\"edge6\" class=\"edge\">\n<title>81&#45;&gt;82</title>\n<path fill=\"none\" stroke=\"#000000\" d=\"M304.5815,-71.9769C300.9977,-63.2167 297.1862,-53.8995 293.7564,-45.5157\"/>\n<polygon fill=\"#000000\" stroke=\"#000000\" points=\"296.968,-44.1222 289.9422,-36.192 290.4891,-46.7727 296.968,-44.1222\"/>\n</g>\n<!-- 355 -->\n<g id=\"node8\" class=\"node\">\n<title>355</title>\n<path fill=\"#c0c0c0\" stroke=\"#000000\" d=\"M369.5,-36C369.5,-36 339.5,-36 339.5,-36 333.5,-36 327.5,-30 327.5,-24 327.5,-24 327.5,-12 327.5,-12 327.5,-6 333.5,0 339.5,0 339.5,0 369.5,0 369.5,0 375.5,0 381.5,-6 381.5,-12 381.5,-12 381.5,-24 381.5,-24 381.5,-30 375.5,-36 369.5,-36\"/>\n<text text-anchor=\"middle\" x=\"354.5\" y=\"-14.3\" font-family=\"Helvetica,sans-Serif\" font-size=\"14.00\" fill=\"#000000\">(...)</text>\n</g>\n<!-- 81&#45;&gt;355 -->\n<g id=\"edge7\" class=\"edge\">\n<title>81&#45;&gt;355</title>\n<path fill=\"none\" stroke=\"#000000\" d=\"M332.4185,-71.9769C336.0023,-63.2167 339.8138,-53.8995 343.2436,-45.5157\"/>\n<polygon fill=\"#000000\" stroke=\"#000000\" points=\"346.5109,-46.7727 347.0578,-36.192 340.032,-44.1222 346.5109,-46.7727\"/>\n</g>\n<!-- 399 -->\n<g id=\"node10\" class=\"node\">\n<title>399</title>\n<path fill=\"#f9f5fe\" stroke=\"#000000\" d=\"M628,-140C628,-140 457,-140 457,-140 451,-140 445,-134 445,-128 445,-128 445,-84 445,-84 445,-78 451,-72 457,-72 457,-72 628,-72 628,-72 634,-72 640,-78 640,-84 640,-84 640,-128 640,-128 640,-134 634,-140 628,-140\"/>\n<text text-anchor=\"middle\" x=\"542.5\" y=\"-124.8\" font-family=\"Helvetica,sans-Serif\" font-size=\"14.00\" fill=\"#000000\">total sulfur dioxide &lt;= 45.5</text>\n<text text-anchor=\"middle\" x=\"542.5\" y=\"-109.8\" font-family=\"Helvetica,sans-Serif\" font-size=\"14.00\" fill=\"#000000\">gini = 0.633</text>\n<text text-anchor=\"middle\" x=\"542.5\" y=\"-94.8\" font-family=\"Helvetica,sans-Serif\" font-size=\"14.00\" fill=\"#000000\">samples = 209</text>\n<text text-anchor=\"middle\" x=\"542.5\" y=\"-79.8\" font-family=\"Helvetica,sans-Serif\" font-size=\"14.00\" fill=\"#000000\">value = [0, 2, 21, 85, 91, 10]</text>\n</g>\n<!-- 398&#45;&gt;399 -->\n<g id=\"edge9\" class=\"edge\">\n<title>398&#45;&gt;399</title>\n<path fill=\"none\" stroke=\"#000000\" d=\"M546.5354,-175.9465C546.064,-167.776 545.5538,-158.9318 545.0598,-150.3697\"/>\n<polygon fill=\"#000000\" stroke=\"#000000\" points=\"548.5393,-149.9118 544.469,-140.13 541.5509,-150.315 548.5393,-149.9118\"/>\n</g>\n<!-- 518 -->\n<g id=\"node13\" class=\"node\">\n<title>518</title>\n<path fill=\"#a9d5f4\" stroke=\"#000000\" d=\"M849,-140C849,-140 670,-140 670,-140 664,-140 658,-134 658,-128 658,-128 658,-84 658,-84 658,-78 664,-72 670,-72 670,-72 849,-72 849,-72 855,-72 861,-78 861,-84 861,-84 861,-128 861,-128 861,-134 855,-140 849,-140\"/>\n<text text-anchor=\"middle\" x=\"759.5\" y=\"-124.8\" font-family=\"Helvetica,sans-Serif\" font-size=\"14.00\" fill=\"#000000\">sulphates &lt;= 0.585</text>\n<text text-anchor=\"middle\" x=\"759.5\" y=\"-109.8\" font-family=\"Helvetica,sans-Serif\" font-size=\"14.00\" fill=\"#000000\">gini = 0.617</text>\n<text text-anchor=\"middle\" x=\"759.5\" y=\"-94.8\" font-family=\"Helvetica,sans-Serif\" font-size=\"14.00\" fill=\"#000000\">samples = 263</text>\n<text text-anchor=\"middle\" x=\"759.5\" y=\"-79.8\" font-family=\"Helvetica,sans-Serif\" font-size=\"14.00\" fill=\"#000000\">value = [3, 11, 57, 146, 42, 4]</text>\n</g>\n<!-- 398&#45;&gt;518 -->\n<g id=\"edge12\" class=\"edge\">\n<title>398&#45;&gt;518</title>\n<path fill=\"none\" stroke=\"#000000\" d=\"M617.5893,-175.9465C637.9002,-165.9354 660.2633,-154.9129 681.1112,-144.6371\"/>\n<polygon fill=\"#000000\" stroke=\"#000000\" points=\"682.8332,-147.6905 690.2555,-140.13 679.7385,-141.4117 682.8332,-147.6905\"/>\n</g>\n<!-- 400 -->\n<g id=\"node11\" class=\"node\">\n<title>400</title>\n<path fill=\"#c0c0c0\" stroke=\"#000000\" d=\"M521.5,-36C521.5,-36 491.5,-36 491.5,-36 485.5,-36 479.5,-30 479.5,-24 479.5,-24 479.5,-12 479.5,-12 479.5,-6 485.5,0 491.5,0 491.5,0 521.5,0 521.5,0 527.5,0 533.5,-6 533.5,-12 533.5,-12 533.5,-24 533.5,-24 533.5,-30 527.5,-36 521.5,-36\"/>\n<text text-anchor=\"middle\" x=\"506.5\" y=\"-14.3\" font-family=\"Helvetica,sans-Serif\" font-size=\"14.00\" fill=\"#000000\">(...)</text>\n</g>\n<!-- 399&#45;&gt;400 -->\n<g id=\"edge10\" class=\"edge\">\n<title>399&#45;&gt;400</title>\n<path fill=\"none\" stroke=\"#000000\" d=\"M528.5815,-71.9769C524.9977,-63.2167 521.1862,-53.8995 517.7564,-45.5157\"/>\n<polygon fill=\"#000000\" stroke=\"#000000\" points=\"520.968,-44.1222 513.9422,-36.192 514.4891,-46.7727 520.968,-44.1222\"/>\n</g>\n<!-- 487 -->\n<g id=\"node12\" class=\"node\">\n<title>487</title>\n<path fill=\"#c0c0c0\" stroke=\"#000000\" d=\"M593.5,-36C593.5,-36 563.5,-36 563.5,-36 557.5,-36 551.5,-30 551.5,-24 551.5,-24 551.5,-12 551.5,-12 551.5,-6 557.5,0 563.5,0 563.5,0 593.5,0 593.5,0 599.5,0 605.5,-6 605.5,-12 605.5,-12 605.5,-24 605.5,-24 605.5,-30 599.5,-36 593.5,-36\"/>\n<text text-anchor=\"middle\" x=\"578.5\" y=\"-14.3\" font-family=\"Helvetica,sans-Serif\" font-size=\"14.00\" fill=\"#000000\">(...)</text>\n</g>\n<!-- 399&#45;&gt;487 -->\n<g id=\"edge11\" class=\"edge\">\n<title>399&#45;&gt;487</title>\n<path fill=\"none\" stroke=\"#000000\" d=\"M556.4185,-71.9769C560.0023,-63.2167 563.8138,-53.8995 567.2436,-45.5157\"/>\n<polygon fill=\"#000000\" stroke=\"#000000\" points=\"570.5109,-46.7727 571.0578,-36.192 564.032,-44.1222 570.5109,-46.7727\"/>\n</g>\n<!-- 519 -->\n<g id=\"node14\" class=\"node\">\n<title>519</title>\n<path fill=\"#c0c0c0\" stroke=\"#000000\" d=\"M738.5,-36C738.5,-36 708.5,-36 708.5,-36 702.5,-36 696.5,-30 696.5,-24 696.5,-24 696.5,-12 696.5,-12 696.5,-6 702.5,0 708.5,0 708.5,0 738.5,0 738.5,0 744.5,0 750.5,-6 750.5,-12 750.5,-12 750.5,-24 750.5,-24 750.5,-30 744.5,-36 738.5,-36\"/>\n<text text-anchor=\"middle\" x=\"723.5\" y=\"-14.3\" font-family=\"Helvetica,sans-Serif\" font-size=\"14.00\" fill=\"#000000\">(...)</text>\n</g>\n<!-- 518&#45;&gt;519 -->\n<g id=\"edge13\" class=\"edge\">\n<title>518&#45;&gt;519</title>\n<path fill=\"none\" stroke=\"#000000\" d=\"M745.5815,-71.9769C741.9977,-63.2167 738.1862,-53.8995 734.7564,-45.5157\"/>\n<polygon fill=\"#000000\" stroke=\"#000000\" points=\"737.968,-44.1222 730.9422,-36.192 731.4891,-46.7727 737.968,-44.1222\"/>\n</g>\n<!-- 572 -->\n<g id=\"node15\" class=\"node\">\n<title>572</title>\n<path fill=\"#c0c0c0\" stroke=\"#000000\" d=\"M810.5,-36C810.5,-36 780.5,-36 780.5,-36 774.5,-36 768.5,-30 768.5,-24 768.5,-24 768.5,-12 768.5,-12 768.5,-6 774.5,0 780.5,0 780.5,0 810.5,0 810.5,0 816.5,0 822.5,-6 822.5,-12 822.5,-12 822.5,-24 822.5,-24 822.5,-30 816.5,-36 810.5,-36\"/>\n<text text-anchor=\"middle\" x=\"795.5\" y=\"-14.3\" font-family=\"Helvetica,sans-Serif\" font-size=\"14.00\" fill=\"#000000\">(...)</text>\n</g>\n<!-- 518&#45;&gt;572 -->\n<g id=\"edge14\" class=\"edge\">\n<title>518&#45;&gt;572</title>\n<path fill=\"none\" stroke=\"#000000\" d=\"M773.4185,-71.9769C777.0023,-63.2167 780.8138,-53.8995 784.2436,-45.5157\"/>\n<polygon fill=\"#000000\" stroke=\"#000000\" points=\"787.5109,-46.7727 788.0578,-36.192 781.032,-44.1222 787.5109,-46.7727\"/>\n</g>\n</g>\n</svg>\n"
          },
          "metadata": {
            "tags": []
          },
          "execution_count": 15
        }
      ]
    },
    {
      "cell_type": "code",
      "metadata": {
        "id": "bR6tj8tFFk4p"
      },
      "source": [
        "from subprocess import call\n",
        "call(['dot', '-Tpng', datapath+'tree_decision_regressor.dot', '-o', datapath+'tree_decision_regressor.png', '-Gdpi=600'])\n",
        "\n",
        "# Display in jupyter notebook\n",
        "from IPython.display import Image\n",
        "Image(filename = datapath + 'tree_decision_regressor.png')"
      ],
      "execution_count": null,
      "outputs": []
    }
  ]
}